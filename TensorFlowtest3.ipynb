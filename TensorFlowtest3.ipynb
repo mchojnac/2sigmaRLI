{
 "cells": [
  {
   "cell_type": "code",
   "execution_count": 1,
   "metadata": {
    "collapsed": true
   },
   "outputs": [],
   "source": [
    "import numpy as np\n",
    "import matplotlib.pyplot as plt\n",
    "import matplotlib\n",
    "import math\n",
    "from collections import Counter\n",
    "%matplotlib inline"
   ]
  },
  {
   "cell_type": "code",
   "execution_count": 2,
   "metadata": {
    "collapsed": true
   },
   "outputs": [],
   "source": [
    "%run ./functions.py"
   ]
  },
  {
   "cell_type": "code",
   "execution_count": 3,
   "metadata": {
    "collapsed": false
   },
   "outputs": [],
   "source": [
    "def InitSettings():\n",
    "    param = {}\n",
    "    param['objective'] = 'multi:softprob'\n",
    "    param['eta'] = 0.02\n",
    "    param['max_depth'] = 5\n",
    "    param['silent'] = 1\n",
    "    param['num_class'] = 3\n",
    "    param['eval_metric'] = \"mlogloss\"\n",
    "    param['min_child_weight'] = 1\n",
    "    param['subsample'] = 0.7\n",
    "    param['colsample_bytree'] = 0.7\n",
    "    param['seed'] = 21\n",
    "    param['nthread'] = 8\n",
    "    param['lambda']=1.0\n",
    "    param ['alpha']=0.0 #[default=0]\n",
    "\n",
    "\n",
    "    maxstat={}\n",
    "    maxstat[\"manager_id\"]=30\n",
    "    maxstat[\"building_id\"]=30\n",
    "    maxstat[\"street_address\"]=30\n",
    "\n",
    "    howtouseID={} # 0= H-M-L fractions 1 columns with 0-1 ,2 =nothing\n",
    "\n",
    "    howtouseID['manager_id']=0\n",
    "    howtouseID['building_id']=0\n",
    "    howtouseID['street_address']=0\n",
    "\n",
    "\n",
    "\n",
    "\n",
    "\n",
    "    columns_for_remove=[\"photos\",\n",
    "                   \"description\",\n",
    "                   \"interest_level\", \"created\",#\"manager_id\",\n",
    "                   #\"building_id\",\n",
    "                    \"display_address\", \"street_address\",#'time','listing_id',\n",
    "                    'street_address_new', 'building_id_new',\n",
    "                    'street_address_new_new','pred0_low','low','pred0_medium','medium','pred0_high','high',]\n",
    "    others=dict()\n",
    "    others[\"countvectorizer_max_features\"]=50\n",
    "    others[\"num_rounds\"]=30\n",
    "    others[\"withrest\"]=True\n",
    "    others[\"addlabelsasint\"]=False\n",
    "    others[\"clean_street_building_ids\"]=0\n",
    "    others[\"cut_on_cleaning_feauters\"]=-1.0\n",
    "    others[\"cut_to_divide_on_building_id\"]=-1\n",
    "    others[\"cut_lan_log_selection\"]=0.0002\n",
    "    others['binsize']=-1.0\n",
    "\n",
    "    alllparams=dict()\n",
    "    alllparams['xgb']=param\n",
    "    alllparams['maxstat']=maxstat\n",
    "    alllparams['howtouseID']=howtouseID\n",
    "    alllparams['others']=others\n",
    "    alllparams['columns_for_remove']=columns_for_remove\n",
    "    return alllparams"
   ]
  },
  {
   "cell_type": "code",
   "execution_count": 4,
   "metadata": {
    "collapsed": false
   },
   "outputs": [
    {
     "name": "stdout",
     "output_type": "stream",
     "text": [
      "Starting transformations\n",
      "Normalizing high cordiality data...\n",
      "manager_id_mean_low\n",
      "manager_id_mean_medium\n",
      "manager_id_mean_high\n",
      "building_id_mean_low\n",
      "building_id_mean_medium\n",
      "building_id_mean_high\n"
     ]
    }
   ],
   "source": [
    "allparams=InitSettings()\n",
    "allparams=ReadIn(\"testTF.txt\",allparams)\n",
    "df_train,df_test=LoadData('fract0_15rs0',allparams)\n",
    "remove_columns(df_train,allparams['columns_for_remove'])\n",
    "remove_columns(df_test,allparams['columns_for_remove'])"
   ]
  },
  {
   "cell_type": "code",
   "execution_count": 5,
   "metadata": {
    "collapsed": true
   },
   "outputs": [],
   "source": [
    "touse=['bedrooms','bathrooms','latitude',\"longitude\",\"price\",\"lenf\",\"num_photos\",\"num_description_words\",'building_id',\n",
    "       'manager_id','display_address']"
   ]
  },
  {
   "cell_type": "code",
   "execution_count": 6,
   "metadata": {
    "collapsed": false
   },
   "outputs": [],
   "source": [
    "#df_train=Filter(df_train,[],clean=False)"
   ]
  },
  {
   "cell_type": "code",
   "execution_count": 7,
   "metadata": {
    "collapsed": true
   },
   "outputs": [],
   "source": [
    "import tensorflow as tf"
   ]
  },
  {
   "cell_type": "code",
   "execution_count": 8,
   "metadata": {
    "collapsed": false
   },
   "outputs": [],
   "source": [
    "grid=[-5,-4,-3,-2,-1,0,1,2,3,4,5]\n",
    "grid2=[-1,-0.9,-0.8,-0.7,-0.6,-0.5,-0.4,-0.3,-0.2,-0.1,0.0,0.1,0.2,0.3,0.4,0.5,0.6,0.7,0.8,0.9,1.0]"
   ]
  },
  {
   "cell_type": "code",
   "execution_count": 9,
   "metadata": {
    "collapsed": false
   },
   "outputs": [],
   "source": [
    "bedrooms = tf.contrib.layers.real_valued_column(\"bedrooms\")\n",
    "bathrooms = tf.contrib.layers.real_valued_column(\"bathrooms\")\n",
    "manager = tf.contrib.layers.sparse_column_with_hash_bucket(\"manager_id\", hash_bucket_size=4000,combiner='sqrtn')\n",
    "building = tf.contrib.layers.sparse_column_with_hash_bucket(\"building_id\", hash_bucket_size=10000,combiner='sqrtn')\n",
    "#address = tf.contrib.layers.sparse_column_with_hash_bucket(\"display_address\", hash_bucket_size=12000,combiner='sqrtn')"
   ]
  },
  {
   "cell_type": "code",
   "execution_count": 10,
   "metadata": {
    "collapsed": false
   },
   "outputs": [],
   "source": [
    "bedrooms_buckets = tf.contrib.layers.bucketized_column(bedrooms,boundaries=[-0.5,0.5,1.5,2.5,3.5,4.5])\n",
    "bathrooms_buckets = tf.contrib.layers.bucketized_column(bathrooms,boundaries=[-0.5,0.5,1.5,2.5])\n",
    "manager_emb=tf.contrib.layers.embedding_column(manager, dimension=8,combiner='sqrtn')\n",
    "building_emb=tf.contrib.layers.embedding_column(building, dimension=8,combiner='sqrtn')\n",
    "#address_emb=tf.contrib.layers.embedding_column(address, dimension=8,combiner='sqrtn')"
   ]
  },
  {
   "cell_type": "code",
   "execution_count": 11,
   "metadata": {
    "collapsed": false
   },
   "outputs": [],
   "source": [
    "rooms=tf.contrib.layers.crossed_column([bedrooms_buckets,bathrooms_buckets],combiner='sum', hash_bucket_size=int(1e4))\n"
   ]
  },
  {
   "cell_type": "code",
   "execution_count": 12,
   "metadata": {
    "collapsed": false
   },
   "outputs": [],
   "source": [
    "price = tf.contrib.layers.real_valued_column(\"price\")\n",
    "latitude = tf.contrib.layers.real_valued_column(\"latitude\")\n",
    "longitude = tf.contrib.layers.real_valued_column(\"longitude\")\n",
    "latitude_buckets = tf.contrib.layers.bucketized_column(latitude,boundaries=grid)\n",
    "longitude_buckets = tf.contrib.layers.bucketized_column(longitude,boundaries=grid)\n",
    "ll=tf.contrib.layers.crossed_column([latitude_buckets,longitude_buckets],combiner='sum', hash_bucket_size=int(1e4))"
   ]
  },
  {
   "cell_type": "code",
   "execution_count": 13,
   "metadata": {
    "collapsed": false
   },
   "outputs": [],
   "source": [
    "lenf = tf.contrib.layers.real_valued_column(\"lenf\")\n",
    "ifphoto= tf.contrib.layers.real_valued_column(\"num_photos\")\n",
    "lendescription= tf.contrib.layers.real_valued_column(\"num_description_words\")"
   ]
  },
  {
   "cell_type": "code",
   "execution_count": 14,
   "metadata": {
    "collapsed": false
   },
   "outputs": [],
   "source": [
    "lenf_buckets = tf.contrib.layers.bucketized_column(lenf, boundaries=grid)\n",
    "ifphoto_buckets = tf.contrib.layers.bucketized_column(ifphoto, boundaries=[-0.5,0.5,1.5,2.5,8.5,13.5,20.5])\n",
    "lendescription_buckets = tf.contrib.layers.bucketized_column(lendescription,boundaries=grid)"
   ]
  },
  {
   "cell_type": "code",
   "execution_count": 15,
   "metadata": {
    "collapsed": false
   },
   "outputs": [],
   "source": [
    "deep_columns = [lenf_buckets,ifphoto_buckets,lendescription_buckets,manager_emb,building_emb,latitude_buckets,longitude_buckets]\n",
    "#wide_columns=[latitude,longitude,ll,rooms,bedrooms_buckets,bathrooms_buckets,price]\n",
    "#deep_columns = [lenf_buckets,ifphoto_buckets,lendescription_buckets,latitude_buckets,longitude_buckets]\n",
    "wide_columns=[latitude,longitude,ll,rooms,bedrooms_buckets,bathrooms_buckets,price]"
   ]
  },
  {
   "cell_type": "code",
   "execution_count": 16,
   "metadata": {
    "collapsed": false
   },
   "outputs": [],
   "source": [
    "def input_fn(df_train):\n",
    "    #if 'interest_level' in df_train.columns:\n",
    "    #inlist=[[0,0,0] for i in range(len(df_train))]\n",
    "    if 'interest_level' in df_train.columns: \n",
    "        label=tf.constant(df_train['interest_level'].values)\n",
    "    else:\n",
    "        label=tf.constant(0,shape=[len(df_train)])\n",
    "  \n",
    "    continuous_cols = {k: tf.constant(df_train[k].values,shape=[df_train[k].size])\n",
    "                     for k in ['bedrooms','bathrooms','latitude',\"longitude\",\"price\",\n",
    "                                                         \"lenf\",\"num_photos\",\"num_description_words\"]}\n",
    "    categorical_cols = {k: tf.SparseTensor(indices=[[i, 0] for i in range(df_train[k].size)],values=df_train[k].values,shape=[df_train[k].size,1])\n",
    "                        for k in ['building_id','manager_id']}\n",
    "    cols=dict()\n",
    "    for i in continuous_cols.keys():\n",
    "        cols[i]=continuous_cols[i]\n",
    "    for i in categorical_cols.keys():\n",
    "        cols[i]=categorical_cols[i]\n",
    "    return cols,label"
   ]
  },
  {
   "cell_type": "code",
   "execution_count": 17,
   "metadata": {
    "collapsed": false
   },
   "outputs": [],
   "source": [
    "import tempfile\n",
    "model_dir = tempfile.mkdtemp()\n",
    "m = tf.contrib.learn.DNNLinearCombinedClassifier(\n",
    "    model_dir=\"/home/mchojnac/kaggle/2sigmaRLI/testtf/tf153\",\n",
    "    linear_feature_columns=wide_columns,\n",
    "    dnn_feature_columns=deep_columns,\n",
    "    dnn_hidden_units=[100,50],\n",
    "    n_classes=3,dnn_activation_fn=tf.nn.relu,enable_centered_bias=False,\n",
    "config=tf.contrib.learn.RunConfig(save_checkpoints_secs=5))#,dnn_optimizer=\"Adam\"),\n",
    "    #dnn_dropout=0.25"
   ]
  },
  {
   "cell_type": "code",
   "execution_count": 18,
   "metadata": {
    "collapsed": false
   },
   "outputs": [
    {
     "name": "stderr",
     "output_type": "stream",
     "text": [
      "WARNING:tensorflow:Given features: {'bedrooms': <tf.Tensor 'Const_1:0' shape=(7403,) dtype=int64>, 'num_photos': <tf.Tensor 'Const_7:0' shape=(7403,) dtype=int64>, 'lenf': <tf.Tensor 'Const_6:0' shape=(7403,) dtype=float64>, 'longitude': <tf.Tensor 'Const_4:0' shape=(7403,) dtype=float64>, 'price': <tf.Tensor 'Const_5:0' shape=(7403,) dtype=float64>, 'manager_id': <tensorflow.python.framework.ops.SparseTensor object at 0x7f9a22bdc6a0>, 'num_description_words': <tf.Tensor 'Const_8:0' shape=(7403,) dtype=float64>, 'building_id': <tensorflow.python.framework.ops.SparseTensor object at 0x7f9a22bdc400>, 'latitude': <tf.Tensor 'Const_3:0' shape=(7403,) dtype=float64>, 'bathrooms': <tf.Tensor 'Const_2:0' shape=(7403,) dtype=float64>}, required signatures: {'bedrooms': TensorSignature(dtype=tf.int64, shape=TensorShape([Dimension(41949)]), is_sparse=False), 'num_photos': TensorSignature(dtype=tf.int64, shape=TensorShape([Dimension(41949)]), is_sparse=False), 'lenf': TensorSignature(dtype=tf.float64, shape=TensorShape([Dimension(41949)]), is_sparse=False), 'longitude': TensorSignature(dtype=tf.float64, shape=TensorShape([Dimension(41949)]), is_sparse=False), 'price': TensorSignature(dtype=tf.float64, shape=TensorShape([Dimension(41949)]), is_sparse=False), 'manager_id': TensorSignature(dtype=tf.string, shape=None, is_sparse=True), 'num_description_words': TensorSignature(dtype=tf.float64, shape=TensorShape([Dimension(41949)]), is_sparse=False), 'building_id': TensorSignature(dtype=tf.string, shape=None, is_sparse=True), 'latitude': TensorSignature(dtype=tf.float64, shape=TensorShape([Dimension(41949)]), is_sparse=False), 'bathrooms': TensorSignature(dtype=tf.float64, shape=TensorShape([Dimension(41949)]), is_sparse=False)}.\n",
      "WARNING:tensorflow:Given targets: Tensor(\"Const:0\", shape=(7403,), dtype=int32), required signatures: TensorSignature(dtype=tf.int32, shape=TensorShape([Dimension(41949)]), is_sparse=False).\n",
      "WARNING:tensorflow:Given features: {'bedrooms': <tf.Tensor 'Const_1:0' shape=(7403,) dtype=int64>, 'num_photos': <tf.Tensor 'Const_7:0' shape=(7403,) dtype=int64>, 'lenf': <tf.Tensor 'Const_6:0' shape=(7403,) dtype=float64>, 'longitude': <tf.Tensor 'Const_4:0' shape=(7403,) dtype=float64>, 'price': <tf.Tensor 'Const_5:0' shape=(7403,) dtype=float64>, 'manager_id': <tensorflow.python.framework.ops.SparseTensor object at 0x7f9a20500f60>, 'num_description_words': <tf.Tensor 'Const_8:0' shape=(7403,) dtype=float64>, 'building_id': <tensorflow.python.framework.ops.SparseTensor object at 0x7f9a20500ef0>, 'latitude': <tf.Tensor 'Const_3:0' shape=(7403,) dtype=float64>, 'bathrooms': <tf.Tensor 'Const_2:0' shape=(7403,) dtype=float64>}, required signatures: {'bedrooms': TensorSignature(dtype=tf.int64, shape=TensorShape([Dimension(41949)]), is_sparse=False), 'num_photos': TensorSignature(dtype=tf.int64, shape=TensorShape([Dimension(41949)]), is_sparse=False), 'lenf': TensorSignature(dtype=tf.float64, shape=TensorShape([Dimension(41949)]), is_sparse=False), 'longitude': TensorSignature(dtype=tf.float64, shape=TensorShape([Dimension(41949)]), is_sparse=False), 'price': TensorSignature(dtype=tf.float64, shape=TensorShape([Dimension(41949)]), is_sparse=False), 'manager_id': TensorSignature(dtype=tf.string, shape=None, is_sparse=True), 'num_description_words': TensorSignature(dtype=tf.float64, shape=TensorShape([Dimension(41949)]), is_sparse=False), 'building_id': TensorSignature(dtype=tf.string, shape=None, is_sparse=True), 'latitude': TensorSignature(dtype=tf.float64, shape=TensorShape([Dimension(41949)]), is_sparse=False), 'bathrooms': TensorSignature(dtype=tf.float64, shape=TensorShape([Dimension(41949)]), is_sparse=False)}.\n",
      "WARNING:tensorflow:Given targets: Tensor(\"Const:0\", shape=(7403,), dtype=int32), required signatures: TensorSignature(dtype=tf.int32, shape=TensorShape([Dimension(41949)]), is_sparse=False).\n",
      "WARNING:tensorflow:Given features: {'bedrooms': <tf.Tensor 'Const_1:0' shape=(7403,) dtype=int64>, 'num_photos': <tf.Tensor 'Const_7:0' shape=(7403,) dtype=int64>, 'lenf': <tf.Tensor 'Const_6:0' shape=(7403,) dtype=float64>, 'longitude': <tf.Tensor 'Const_4:0' shape=(7403,) dtype=float64>, 'price': <tf.Tensor 'Const_5:0' shape=(7403,) dtype=float64>, 'manager_id': <tensorflow.python.framework.ops.SparseTensor object at 0x7f9a22d31710>, 'num_description_words': <tf.Tensor 'Const_8:0' shape=(7403,) dtype=float64>, 'building_id': <tensorflow.python.framework.ops.SparseTensor object at 0x7f9a22d311d0>, 'latitude': <tf.Tensor 'Const_3:0' shape=(7403,) dtype=float64>, 'bathrooms': <tf.Tensor 'Const_2:0' shape=(7403,) dtype=float64>}, required signatures: {'bedrooms': TensorSignature(dtype=tf.int64, shape=TensorShape([Dimension(41949)]), is_sparse=False), 'num_photos': TensorSignature(dtype=tf.int64, shape=TensorShape([Dimension(41949)]), is_sparse=False), 'lenf': TensorSignature(dtype=tf.float64, shape=TensorShape([Dimension(41949)]), is_sparse=False), 'longitude': TensorSignature(dtype=tf.float64, shape=TensorShape([Dimension(41949)]), is_sparse=False), 'price': TensorSignature(dtype=tf.float64, shape=TensorShape([Dimension(41949)]), is_sparse=False), 'manager_id': TensorSignature(dtype=tf.string, shape=None, is_sparse=True), 'num_description_words': TensorSignature(dtype=tf.float64, shape=TensorShape([Dimension(41949)]), is_sparse=False), 'building_id': TensorSignature(dtype=tf.string, shape=None, is_sparse=True), 'latitude': TensorSignature(dtype=tf.float64, shape=TensorShape([Dimension(41949)]), is_sparse=False), 'bathrooms': TensorSignature(dtype=tf.float64, shape=TensorShape([Dimension(41949)]), is_sparse=False)}.\n",
      "WARNING:tensorflow:Given targets: Tensor(\"Const:0\", shape=(7403,), dtype=int32), required signatures: TensorSignature(dtype=tf.int32, shape=TensorShape([Dimension(41949)]), is_sparse=False).\n",
      "WARNING:tensorflow:Given features: {'bedrooms': <tf.Tensor 'Const_1:0' shape=(7403,) dtype=int64>, 'num_photos': <tf.Tensor 'Const_7:0' shape=(7403,) dtype=int64>, 'lenf': <tf.Tensor 'Const_6:0' shape=(7403,) dtype=float64>, 'longitude': <tf.Tensor 'Const_4:0' shape=(7403,) dtype=float64>, 'price': <tf.Tensor 'Const_5:0' shape=(7403,) dtype=float64>, 'manager_id': <tensorflow.python.framework.ops.SparseTensor object at 0x7f9a1e848ac8>, 'num_description_words': <tf.Tensor 'Const_8:0' shape=(7403,) dtype=float64>, 'building_id': <tensorflow.python.framework.ops.SparseTensor object at 0x7f9a1e848978>, 'latitude': <tf.Tensor 'Const_3:0' shape=(7403,) dtype=float64>, 'bathrooms': <tf.Tensor 'Const_2:0' shape=(7403,) dtype=float64>}, required signatures: {'bedrooms': TensorSignature(dtype=tf.int64, shape=TensorShape([Dimension(41949)]), is_sparse=False), 'num_photos': TensorSignature(dtype=tf.int64, shape=TensorShape([Dimension(41949)]), is_sparse=False), 'lenf': TensorSignature(dtype=tf.float64, shape=TensorShape([Dimension(41949)]), is_sparse=False), 'longitude': TensorSignature(dtype=tf.float64, shape=TensorShape([Dimension(41949)]), is_sparse=False), 'price': TensorSignature(dtype=tf.float64, shape=TensorShape([Dimension(41949)]), is_sparse=False), 'manager_id': TensorSignature(dtype=tf.string, shape=None, is_sparse=True), 'num_description_words': TensorSignature(dtype=tf.float64, shape=TensorShape([Dimension(41949)]), is_sparse=False), 'building_id': TensorSignature(dtype=tf.string, shape=None, is_sparse=True), 'latitude': TensorSignature(dtype=tf.float64, shape=TensorShape([Dimension(41949)]), is_sparse=False), 'bathrooms': TensorSignature(dtype=tf.float64, shape=TensorShape([Dimension(41949)]), is_sparse=False)}.\n",
      "WARNING:tensorflow:Given targets: Tensor(\"Const:0\", shape=(7403,), dtype=int32), required signatures: TensorSignature(dtype=tf.int32, shape=TensorShape([Dimension(41949)]), is_sparse=False).\n"
     ]
    },
    {
     "data": {
      "text/plain": [
       "DNNLinearCombinedClassifier()"
      ]
     },
     "execution_count": 18,
     "metadata": {},
     "output_type": "execute_result"
    }
   ],
   "source": [
    "validation_metrics = {\"accuracy\": tf.contrib.metrics.streaming_accuracy,\n",
    "                      \"precision\": tf.contrib.metrics.streaming_precision,\n",
    "                      \"recall\": tf.contrib.metrics.streaming_recall}\n",
    "\n",
    "Std(df_test,['latitude',\"longitude\",\"price\",\"lenf\",\"num_description_words\"] )\n",
    "validation_monitor = tf.contrib.learn.monitors.ValidationMonitor(input_fn=lambda: input_fn(df_test),\n",
    "                                                                 every_n_steps=50,eval_steps=1,\n",
    "                                                                )\n",
    "Std(df_train,['latitude',\"longitude\",\"price\",\"lenf\",\"num_description_words\"] )\n",
    "m.fit(input_fn=lambda: input_fn(df_train),steps=200,monitors=[validation_monitor])"
   ]
  },
  {
   "cell_type": "code",
   "execution_count": 19,
   "metadata": {
    "collapsed": false
   },
   "outputs": [
    {
     "name": "stderr",
     "output_type": "stream",
     "text": [
      "WARNING:tensorflow:Calling DNNLinearCombinedClassifier.predict_proba (from tensorflow.contrib.learn.python.learn.estimators.dnn_linear_combined) with as_iterable=False is deprecated and will be removed after 2016-09-15.\n",
      "Instructions for updating:\n",
      "The default behavior of predict() is changing. The default value for\n",
      "as_iterable will change to True, and then the flag will be removed\n",
      "altogether. The behavior of this flag is described below.\n",
      "WARNING:tensorflow:Calling BaseEstimator.predict (from tensorflow.contrib.learn.python.learn.estimators.estimator) with as_iterable=False is deprecated and will be removed after 2016-09-15.\n",
      "Instructions for updating:\n",
      "The default behavior of predict() is changing. The default value for\n",
      "as_iterable will change to True, and then the flag will be removed\n",
      "altogether. The behavior of this flag is described below.\n"
     ]
    }
   ],
   "source": [
    "results = m.predict_proba(input_fn=lambda: input_fn(df_test))"
   ]
  },
  {
   "cell_type": "code",
   "execution_count": 20,
   "metadata": {
    "collapsed": false
   },
   "outputs": [
    {
     "data": {
      "text/plain": [
       "(array([ 7403.,     0.,     0.,     0.,     0.,     0.,     0.,     0.,\n",
       "            0.,     0.]),\n",
       " array([ 0. ,  0.1,  0.2,  0.3,  0.4,  0.5,  0.6,  0.7,  0.8,  0.9,  1. ]),\n",
       " <a list of 10 Patch objects>)"
      ]
     },
     "execution_count": 20,
     "metadata": {},
     "output_type": "execute_result"
    },
    {
     "data": {
      "image/png": "[encoded data removed]",
      "text/plain": [
       "<matplotlib.figure.Figure at 0x7f9a1f8d4978>"
      ]
     },
     "metadata": {},
     "output_type": "display_data"
    }
   ],
   "source": [
    "plt.hist(results[:,2],bins=[0.0,0.1,0.2,0.3,0.4,0.5,0.6,0.7,0.8,0.9,1.0])"
   ]
  },
  {
   "cell_type": "code",
   "execution_count": 21,
   "metadata": {
    "collapsed": false
   },
   "outputs": [
    {
     "name": "stderr",
     "output_type": "stream",
     "text": [
      "WARNING:tensorflow:Calling DNNLinearCombinedClassifier.predict_proba (from tensorflow.contrib.learn.python.learn.estimators.dnn_linear_combined) with as_iterable=False is deprecated and will be removed after 2016-09-15.\n",
      "Instructions for updating:\n",
      "The default behavior of predict() is changing. The default value for\n",
      "as_iterable will change to True, and then the flag will be removed\n",
      "altogether. The behavior of this flag is described below.\n",
      "WARNING:tensorflow:Calling BaseEstimator.predict (from tensorflow.contrib.learn.python.learn.estimators.estimator) with as_iterable=False is deprecated and will be removed after 2016-09-15.\n",
      "Instructions for updating:\n",
      "The default behavior of predict() is changing. The default value for\n",
      "as_iterable will change to True, and then the flag will be removed\n",
      "altogether. The behavior of this flag is described below.\n"
     ]
    },
    {
     "data": {
      "text/plain": [
       "array([[  9.99792159e-01,   1.03926235e-04,   1.03886006e-04],\n",
       "       [  9.99044478e-01,   4.96819674e-04,   4.58611001e-04],\n",
       "       [  9.94100273e-01,   3.00260261e-03,   2.89707701e-03],\n",
       "       ..., \n",
       "       [  9.99884129e-01,   6.07577022e-05,   5.50386139e-05],\n",
       "       [  9.99555767e-01,   2.27925731e-04,   2.16213928e-04],\n",
       "       [  9.99590933e-01,   2.27287543e-04,   1.81858646e-04]], dtype=float32)"
      ]
     },
     "execution_count": 21,
     "metadata": {},
     "output_type": "execute_result"
    }
   ],
   "source": [
    "m.predict_proba(input_fn=lambda: input_fn(df_test))"
   ]
  },
  {
   "cell_type": "code",
   "execution_count": null,
   "metadata": {
    "collapsed": true
   },
   "outputs": [],
   "source": []
  }
 ],
 "metadata": {
  "kernelspec": {
   "display_name": "Python 3",
   "language": "python",
   "name": "python3"
  },
  "language_info": {
   "codemirror_mode": {
    "name": "ipython",
    "version": 3
   },
   "file_extension": ".py",
   "mimetype": "text/x-python",
   "name": "python",
   "nbconvert_exporter": "python",
   "pygments_lexer": "ipython3",
   "version": "3.4.3"
  }
 },
 "nbformat": 4,
 "nbformat_minor": 0
}
